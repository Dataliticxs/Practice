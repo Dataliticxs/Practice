{
 "cells": [
  {
   "cell_type": "code",
   "execution_count": 9,
   "metadata": {},
   "outputs": [
    {
     "name": "stdout",
     "output_type": "stream",
     "text": [
      "Grade A\n"
     ]
    }
   ],
   "source": [
    "grade=100\n",
    "if grade>=85:\n",
    "    print(\"Grade A\")\n",
    "elif grade>=80:\n",
    "    print(\"Grade B\")\n",
    "else:\n",
    "    print(\"You failed\")"
   ]
  },
  {
   "cell_type": "code",
   "execution_count": 10,
   "metadata": {},
   "outputs": [
    {
     "name": "stdout",
     "output_type": "stream",
     "text": [
      "Affluence\n"
     ]
    }
   ],
   "source": [
    "name=\"Prince Ononuju\"\n",
    "if name==\"Prince Ononuju\":\n",
    "    print(\"Affluence\")\n",
    "elif name==\"Fasola Peters\":\n",
    "    print(\"Hustler\")\n",
    "else:\n",
    "    print(\"On God\")"
   ]
  },
  {
   "cell_type": "code",
   "execution_count": 11,
   "metadata": {},
   "outputs": [
    {
     "name": "stdout",
     "output_type": "stream",
     "text": [
      "Chocolate\n"
     ]
    }
   ],
   "source": [
    "#TO CREATE A LIST\n",
    "Grocery_List=['Milk',\"Avocado\",\"Bread\"]\n",
    "\n",
    "#TO ADD TO A LIST\n",
    "#APPEND TAKES ONE ARGUEMENT\n",
    "Grocery_List.append(\"Chocolate\")\n",
    "\n",
    "#EXTEND TAKES MULTIPLE ARGUMENT\n",
    "Grocery_List.extend([\"Banana\",\"Egg\"])\n",
    "\n",
    "#POP IS USED TO REMOVE THE LAST ITEM FROM A LIST\n",
    "#TO REMOVE BY POSITION USING POP, YOU SPECIFY THE INDEX|POSITION\n",
    "Grocery_List.pop()\n",
    "Grocery_List.pop(1)\n",
    "Grocery_List\n",
    "print(Grocery_List[2])\n"
   ]
  },
  {
   "cell_type": "code",
   "execution_count": 12,
   "metadata": {},
   "outputs": [],
   "source": [
    "fruits = ['orange', 'apple', 'pear', 'banana', 'kiwi', 'apple', 'banana']"
   ]
  },
  {
   "cell_type": "code",
   "execution_count": 13,
   "metadata": {},
   "outputs": [
    {
     "data": {
      "text/plain": [
       "['apple', 'pear', 'banana', 'kiwi', 'apple']"
      ]
     },
     "execution_count": 13,
     "metadata": {},
     "output_type": "execute_result"
    }
   ],
   "source": [
    "fruits[1:6]"
   ]
  },
  {
   "cell_type": "code",
   "execution_count": 14,
   "metadata": {},
   "outputs": [
    {
     "data": {
      "text/plain": [
       "7"
      ]
     },
     "execution_count": 14,
     "metadata": {},
     "output_type": "execute_result"
    }
   ],
   "source": [
    "len(fruits)"
   ]
  },
  {
   "cell_type": "code",
   "execution_count": 15,
   "metadata": {},
   "outputs": [
    {
     "data": {
      "text/plain": [
       "['orange', 'apple', 'Pineapple', 'pear', 'banana', 'apple', 'banana']"
      ]
     },
     "execution_count": 15,
     "metadata": {},
     "output_type": "execute_result"
    }
   ],
   "source": [
    "#TO INSERT A NEW ELEMENT INTO A SPECIFIC POSITION\n",
    "fruits.insert(2,'Pineapple')\n",
    "fruits\n",
    "\n",
    "#TO REMOVE A SPEFIFIC ELEMENT FROM A LIST\n",
    "fruits.remove('kiwi')\n",
    "fruits"
   ]
  },
  {
   "cell_type": "code",
   "execution_count": 16,
   "metadata": {},
   "outputs": [
    {
     "data": {
      "text/plain": [
       "[100, [50], 100, 100, 95, 93, 87, 87, 84, 72, 34]"
      ]
     },
     "execution_count": 16,
     "metadata": {},
     "output_type": "execute_result"
    }
   ],
   "source": [
    "Score=[100,34,72,95,93,84,87,87,100,100,100]\n",
    "Score\n",
    "\n",
    "#TO SORT THE VARIABLE SCORE\n",
    "Score.sort()\n",
    "Score\n",
    "\n",
    "#TO GO FROM BIG TO SMALL\n",
    "Score.reverse()\n",
    "Score\n",
    "\n",
    "#TO COUNT UNIQUE SCORES\n",
    "Score.count(100)\n",
    "\n",
    "#TO CHANGE OR UPDATE A SCORE BASED ON INDEX LOCATION\n",
    "Score[1]=[50]\n",
    "Score"
   ]
  },
  {
   "cell_type": "code",
   "execution_count": null,
   "metadata": {},
   "outputs": [],
   "source": []
  }
 ],
 "metadata": {
  "kernelspec": {
   "display_name": "Python 3",
   "language": "python",
   "name": "python3"
  },
  "language_info": {
   "codemirror_mode": {
    "name": "ipython",
    "version": 3
   },
   "file_extension": ".py",
   "mimetype": "text/x-python",
   "name": "python",
   "nbconvert_exporter": "python",
   "pygments_lexer": "ipython3",
   "version": "3.13.0"
  }
 },
 "nbformat": 4,
 "nbformat_minor": 2
}
