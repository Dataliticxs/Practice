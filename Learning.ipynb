{
 "cells": [
  {
   "cell_type": "code",
   "execution_count": 28,
   "metadata": {},
   "outputs": [
    {
     "data": {
      "text/plain": [
       "False"
      ]
     },
     "execution_count": 28,
     "metadata": {},
     "output_type": "execute_result"
    }
   ],
   "source": [
    "5>10"
   ]
  },
  {
   "cell_type": "code",
   "execution_count": 31,
   "metadata": {},
   "outputs": [
    {
     "data": {
      "text/plain": [
       "'IT FIRM'"
      ]
     },
     "execution_count": 31,
     "metadata": {},
     "output_type": "execute_result"
    }
   ],
   "source": [
    "Pluralcode='IT FIRM'\n",
    "Pluralcode"
   ]
  },
  {
   "cell_type": "code",
   "execution_count": 39,
   "metadata": {},
   "outputs": [
    {
     "data": {
      "text/plain": [
       "'Prince Ahamuefule Ononuju'"
      ]
     },
     "execution_count": 39,
     "metadata": {},
     "output_type": "execute_result"
    }
   ],
   "source": [
    "Firstname='Prince'\n",
    "Middlename='Ahamuefule'\n",
    "Lastname='Ononuju'\n",
    "Fullname=Firstname+ \" \" +Middlename+ \" \" +Lastname\n",
    "Fullname"
   ]
  },
  {
   "cell_type": "markdown",
   "metadata": {},
   "source": [
    "STRING SLICING AND INDEXING"
   ]
  },
  {
   "cell_type": "markdown",
   "metadata": {},
   "source": [
    "INDEXING"
   ]
  },
  {
   "cell_type": "code",
   "execution_count": 41,
   "metadata": {},
   "outputs": [
    {
     "data": {
      "text/plain": [
       "'A'"
      ]
     },
     "execution_count": 41,
     "metadata": {},
     "output_type": "execute_result"
    }
   ],
   "source": [
    "Fullname[7]"
   ]
  },
  {
   "cell_type": "markdown",
   "metadata": {},
   "source": [
    "SLICING"
   ]
  },
  {
   "cell_type": "code",
   "execution_count": 42,
   "metadata": {},
   "outputs": [
    {
     "data": {
      "text/plain": [
       "'Pri'"
      ]
     },
     "execution_count": 42,
     "metadata": {},
     "output_type": "execute_result"
    }
   ],
   "source": [
    "Fullname[0:3]"
   ]
  },
  {
   "cell_type": "code",
   "execution_count": 43,
   "metadata": {},
   "outputs": [
    {
     "data": {
      "text/plain": [
       "'e Ahamuefule Ononuju'"
      ]
     },
     "execution_count": 43,
     "metadata": {},
     "output_type": "execute_result"
    }
   ],
   "source": [
    "Fullname[5:]"
   ]
  },
  {
   "cell_type": "code",
   "execution_count": 44,
   "metadata": {},
   "outputs": [
    {
     "data": {
      "text/plain": [
       "'PRINCE AHAMUEFULE ONONUJU'"
      ]
     },
     "execution_count": 44,
     "metadata": {},
     "output_type": "execute_result"
    }
   ],
   "source": [
    "Fullname.upper()"
   ]
  },
  {
   "cell_type": "code",
   "execution_count": 45,
   "metadata": {},
   "outputs": [
    {
     "data": {
      "text/plain": [
       "'Prince Ahamuefule Ononuju'"
      ]
     },
     "execution_count": 45,
     "metadata": {},
     "output_type": "execute_result"
    }
   ],
   "source": [
    "Fullname.strip()"
   ]
  },
  {
   "cell_type": "markdown",
   "metadata": {},
   "source": [
    "FORMATTED STRING"
   ]
  },
  {
   "cell_type": "code",
   "execution_count": 54,
   "metadata": {},
   "outputs": [
    {
     "data": {
      "text/plain": [
       "'I am 35 Years Old'"
      ]
     },
     "execution_count": 54,
     "metadata": {},
     "output_type": "execute_result"
    }
   ],
   "source": [
    "Age=35\n",
    "message= f'I am {35} Years Old'\n",
    "message"
   ]
  },
  {
   "cell_type": "markdown",
   "metadata": {},
   "source": [
    "INTEGERS"
   ]
  },
  {
   "cell_type": "code",
   "execution_count": 57,
   "metadata": {},
   "outputs": [
    {
     "data": {
      "text/plain": [
       "int"
      ]
     },
     "execution_count": 57,
     "metadata": {},
     "output_type": "execute_result"
    }
   ],
   "source": [
    "score=50\n",
    "type(score)"
   ]
  },
  {
   "cell_type": "markdown",
   "metadata": {},
   "source": [
    "ARITHMETIC CALCULATIONS WITH INT"
   ]
  },
  {
   "cell_type": "code",
   "execution_count": 58,
   "metadata": {},
   "outputs": [
    {
     "data": {
      "text/plain": [
       "1000"
      ]
     },
     "execution_count": 58,
     "metadata": {},
     "output_type": "execute_result"
    }
   ],
   "source": [
    "500*2"
   ]
  },
  {
   "cell_type": "code",
   "execution_count": 59,
   "metadata": {},
   "outputs": [
    {
     "data": {
      "text/plain": [
       "27.5"
      ]
     },
     "execution_count": 59,
     "metadata": {},
     "output_type": "execute_result"
    }
   ],
   "source": [
    "55/2"
   ]
  },
  {
   "cell_type": "code",
   "execution_count": 60,
   "metadata": {},
   "outputs": [
    {
     "data": {
      "text/plain": [
       "27"
      ]
     },
     "execution_count": 60,
     "metadata": {},
     "output_type": "execute_result"
    }
   ],
   "source": [
    "55//2"
   ]
  },
  {
   "cell_type": "markdown",
   "metadata": {},
   "source": [
    "LIST"
   ]
  },
  {
   "cell_type": "code",
   "execution_count": 7,
   "metadata": {},
   "outputs": [
    {
     "data": {
      "text/plain": [
       "['Prince',\n",
       " 'Godwill',\n",
       " 'Soki',\n",
       " 'Hajarat',\n",
       " 'Kate',\n",
       " 'Oye',\n",
       " 'Sakirat',\n",
       " 'Better',\n",
       " 'Emmanuel',\n",
       " 'Rhoda',\n",
       " 'Juliet']"
      ]
     },
     "execution_count": 7,
     "metadata": {},
     "output_type": "execute_result"
    }
   ],
   "source": [
    "Student_names=['Prince', 'Godwill', 'Soki', 'Hajarat', 'Kate', 'Oye','Sakirat','Better','Emmanuel','Rhoda','Juliet']\n",
    "Student_names"
   ]
  },
  {
   "cell_type": "code",
   "execution_count": 8,
   "metadata": {},
   "outputs": [
    {
     "data": {
      "text/plain": [
       "'Kate'"
      ]
     },
     "execution_count": 8,
     "metadata": {},
     "output_type": "execute_result"
    }
   ],
   "source": [
    "Student_names[4]"
   ]
  },
  {
   "cell_type": "markdown",
   "metadata": {},
   "source": [
    "CHANGING VALUE IN A LIST"
   ]
  },
  {
   "cell_type": "code",
   "execution_count": 12,
   "metadata": {},
   "outputs": [
    {
     "data": {
      "text/plain": [
       "['Prince',\n",
       " 'Godwill',\n",
       " 'Soki',\n",
       " 'Hajarat',\n",
       " 'Kate',\n",
       " 'Oye',\n",
       " 'Sakirat',\n",
       " 'Better',\n",
       " 'Emmanuella',\n",
       " 'Rhoda',\n",
       " 'Juliet']"
      ]
     },
     "execution_count": 12,
     "metadata": {},
     "output_type": "execute_result"
    }
   ],
   "source": [
    "Student_names[-3]='Emmanuella'\n",
    "Student_names"
   ]
  },
  {
   "cell_type": "markdown",
   "metadata": {},
   "source": [
    "USING LIST INBUUILT SYNTAX\n",
    "\n",
    "APPEND"
   ]
  },
  {
   "cell_type": "code",
   "execution_count": 15,
   "metadata": {},
   "outputs": [
    {
     "data": {
      "text/plain": [
       "['Prince',\n",
       " 'Godwill',\n",
       " 'Soki',\n",
       " 'Hajarat',\n",
       " 'Kate',\n",
       " 'Oye',\n",
       " 'Sakirat',\n",
       " 'Better',\n",
       " 'Emmanuella',\n",
       " 'Rhoda',\n",
       " 'Juliet',\n",
       " 506,\n",
       " 506,\n",
       " 506]"
      ]
     },
     "execution_count": 15,
     "metadata": {},
     "output_type": "execute_result"
    }
   ],
   "source": [
    "Student_names.append(506)\n",
    "Student_names"
   ]
  },
  {
   "cell_type": "markdown",
   "metadata": {},
   "source": [
    "INSERT"
   ]
  },
  {
   "cell_type": "code",
   "execution_count": 16,
   "metadata": {},
   "outputs": [
    {
     "data": {
      "text/plain": [
       "['Prince',\n",
       " 'Damilola',\n",
       " 'Godwill',\n",
       " 'Soki',\n",
       " 'Hajarat',\n",
       " 'Kate',\n",
       " 'Oye',\n",
       " 'Sakirat',\n",
       " 'Better',\n",
       " 'Emmanuella',\n",
       " 'Rhoda',\n",
       " 'Juliet',\n",
       " 506,\n",
       " 506,\n",
       " 506]"
      ]
     },
     "execution_count": 16,
     "metadata": {},
     "output_type": "execute_result"
    }
   ],
   "source": [
    "Student_names.insert(1,'Damilola')\n",
    "Student_names"
   ]
  },
  {
   "cell_type": "code",
   "execution_count": 18,
   "metadata": {},
   "outputs": [
    {
     "data": {
      "text/plain": [
       "['Prince',\n",
       " 'Damilola',\n",
       " 'Godwill',\n",
       " 'Soki',\n",
       " 'Hajarat',\n",
       " 'Kate',\n",
       " 'Oye',\n",
       " 'Sakirat',\n",
       " 'Better',\n",
       " 'Emmanuella',\n",
       " 'Rhoda',\n",
       " 'Juliet',\n",
       " 506,\n",
       " 506]"
      ]
     },
     "execution_count": 18,
     "metadata": {},
     "output_type": "execute_result"
    }
   ],
   "source": [
    "Student_names.remove(506)\n",
    "Student_names"
   ]
  },
  {
   "cell_type": "markdown",
   "metadata": {},
   "source": [
    "POP REMOVES BY SPECIFYING INDEX NUMBER"
   ]
  },
  {
   "cell_type": "code",
   "execution_count": 19,
   "metadata": {},
   "outputs": [
    {
     "data": {
      "text/plain": [
       "['Prince',\n",
       " 'Damilola',\n",
       " 'Godwill',\n",
       " 'Soki',\n",
       " 'Hajarat',\n",
       " 'Kate',\n",
       " 'Oye',\n",
       " 'Sakirat',\n",
       " 'Better',\n",
       " 'Emmanuella',\n",
       " 'Rhoda',\n",
       " 'Juliet',\n",
       " 506]"
      ]
     },
     "execution_count": 19,
     "metadata": {},
     "output_type": "execute_result"
    }
   ],
   "source": [
    "Student_names.pop(-2)\n",
    "Student_names"
   ]
  },
  {
   "cell_type": "markdown",
   "metadata": {},
   "source": [
    "COPY"
   ]
  },
  {
   "cell_type": "markdown",
   "metadata": {},
   "source": [
    "IT IS ADVISABLE TO MAKE A COPY(CLONE) OF YOUR DATA IN THE EVENT THAT YOU MISTAKENLY DELETE THE ACTUAL DATA. ENSURE TO ALWAYS HAVE A CLONE OF THE EXACT DATA"
   ]
  },
  {
   "cell_type": "code",
   "execution_count": 21,
   "metadata": {},
   "outputs": [
    {
     "data": {
      "text/plain": [
       "['Prince',\n",
       " 'Damilola',\n",
       " 'Godwill',\n",
       " 'Soki',\n",
       " 'Hajarat',\n",
       " 'Kate',\n",
       " 'Oye',\n",
       " 'Sakirat',\n",
       " 'Better',\n",
       " 'Emmanuella',\n",
       " 'Rhoda',\n",
       " 'Juliet',\n",
       " 506]"
      ]
     },
     "execution_count": 21,
     "metadata": {},
     "output_type": "execute_result"
    }
   ],
   "source": [
    "Student_Name_Two=Student_names.copy()\n",
    "Student_Name_Two"
   ]
  },
  {
   "cell_type": "code",
   "execution_count": 22,
   "metadata": {},
   "outputs": [],
   "source": [
    "del Student_names"
   ]
  },
  {
   "cell_type": "code",
   "execution_count": 23,
   "metadata": {},
   "outputs": [
    {
     "data": {
      "text/plain": [
       "['Prince',\n",
       " 'Damilola',\n",
       " 'Godwill',\n",
       " 'Soki',\n",
       " 'Hajarat',\n",
       " 'Kate',\n",
       " 'Oye',\n",
       " 'Sakirat',\n",
       " 'Better',\n",
       " 'Emmanuella',\n",
       " 'Rhoda',\n",
       " 'Juliet',\n",
       " 506]"
      ]
     },
     "execution_count": 23,
     "metadata": {},
     "output_type": "execute_result"
    }
   ],
   "source": [
    "Student_names=Student_Name_Two.copy()\n",
    "Student_names"
   ]
  },
  {
   "cell_type": "markdown",
   "metadata": {},
   "source": [
    "TUPLE\n",
    "\n",
    "\n",
    "LIST IS CHANGEABLE WHILE TUPLE IS UNCHANGEABLE\n",
    "TUPLE CAN ONLY BE CHANGED AFTER WE HAVE CONVERTED TO LIST"
   ]
  },
  {
   "cell_type": "code",
   "execution_count": 24,
   "metadata": {},
   "outputs": [],
   "source": [
    "My_List=['Mango',68.9,600,True,False]"
   ]
  },
  {
   "cell_type": "markdown",
   "metadata": {},
   "source": [
    "A TUPLE JUST LIKE A LIST IS A WAY OF SAVING MULTIPLE ITEMS USING ONE VARIABLE. TUPLES ARE WRITTEN WITH ROUND BRACKET. TUPLE CAN CONTAIN DIFFERENT DATA TYPES. TUPLES ARE ORDERED, UNCHANGEABLE AND ALLOWS DUPLICATE. TUPLES CAN ALSO BE INDEXED"
   ]
  },
  {
   "cell_type": "code",
   "execution_count": 1,
   "metadata": {},
   "outputs": [
    {
     "data": {
      "text/plain": [
       "('Mango',\n",
       " 'Orange',\n",
       " 'Banana',\n",
       " 'Apple',\n",
       " 'Pineapple',\n",
       " 'Avocado',\n",
       " 'Water_melon',\n",
       " 'Cucumber',\n",
       " 'Strawberry',\n",
       " 'Pawpaw')"
      ]
     },
     "execution_count": 1,
     "metadata": {},
     "output_type": "execute_result"
    }
   ],
   "source": [
    "Fruits=('Mango','Orange','Banana','Apple','Pineapple','Avocado','Water_melon','Cucumber','Strawberry','Pawpaw')\n",
    "Fruits"
   ]
  },
  {
   "cell_type": "code",
   "execution_count": 30,
   "metadata": {},
   "outputs": [
    {
     "data": {
      "text/plain": [
       "'Pineapple'"
      ]
     },
     "execution_count": 30,
     "metadata": {},
     "output_type": "execute_result"
    }
   ],
   "source": [
    "Fruits[4]"
   ]
  },
  {
   "cell_type": "code",
   "execution_count": 3,
   "metadata": {},
   "outputs": [
    {
     "data": {
      "text/plain": [
       "('Banana', 'Apple', 'Pineapple', 'Avocado', 'Water_melon', 'Cucumber')"
      ]
     },
     "execution_count": 3,
     "metadata": {},
     "output_type": "execute_result"
    }
   ],
   "source": [
    "Fruits[2:8]"
   ]
  },
  {
   "cell_type": "markdown",
   "metadata": {},
   "source": [
    "CONVERTING TUPLE TO LIST"
   ]
  },
  {
   "cell_type": "code",
   "execution_count": 4,
   "metadata": {},
   "outputs": [
    {
     "data": {
      "text/plain": [
       "list"
      ]
     },
     "execution_count": 4,
     "metadata": {},
     "output_type": "execute_result"
    }
   ],
   "source": [
    "Fruits_two=list(Fruits)\n",
    "type(Fruits_two)"
   ]
  },
  {
   "cell_type": "code",
   "execution_count": 5,
   "metadata": {},
   "outputs": [
    {
     "data": {
      "text/plain": [
       "['Mango',\n",
       " 'Orange',\n",
       " 'Banana',\n",
       " 'Apple',\n",
       " 'Pineapple',\n",
       " 'Avocado',\n",
       " 'Water_melon',\n",
       " 'Cucumber',\n",
       " 'Strawberry',\n",
       " 'Pawpaw',\n",
       " 'Orange']"
      ]
     },
     "execution_count": 5,
     "metadata": {},
     "output_type": "execute_result"
    }
   ],
   "source": [
    "Fruits_two.append(\"Orange\")\n",
    "Fruits_two"
   ]
  },
  {
   "cell_type": "code",
   "execution_count": 9,
   "metadata": {},
   "outputs": [
    {
     "data": {
      "text/plain": [
       "tuple"
      ]
     },
     "execution_count": 9,
     "metadata": {},
     "output_type": "execute_result"
    }
   ],
   "source": [
    "Fruits_Three=tuple(Fruits_two)\n",
    "type(Fruits_Three)"
   ]
  },
  {
   "cell_type": "markdown",
   "metadata": {},
   "source": [
    "SET IS A COLLECTION OF ITEMS WHICH IS UNORDERED, UNCHANGEABLE, UNINDEXED.\n",
    "\n",
    "A SET ALLOWS DIFFERENT DATA. SETS DO NOT ALLOW DUPLICATE VALUES. SETS ARE WRITTEN WITH CURLY BRACKET.\n",
    "\n",
    "TRUE AND 1 ARE REGARDED AS SAME IN SET WHILE FALSE AND ZERO ARE REGARDED AS SAME"
   ]
  },
  {
   "cell_type": "code",
   "execution_count": 11,
   "metadata": {},
   "outputs": [
    {
     "data": {
      "text/plain": [
       "6"
      ]
     },
     "execution_count": 11,
     "metadata": {},
     "output_type": "execute_result"
    }
   ],
   "source": [
    "my_set={456,'Aapple',True,46.9,False,1,'Prince',0}\n",
    "len(my_set)"
   ]
  },
  {
   "cell_type": "code",
   "execution_count": 12,
   "metadata": {},
   "outputs": [
    {
     "data": {
      "text/plain": [
       "{456, 46.9, 'Aapple', False, 'Prince', True}"
      ]
     },
     "execution_count": 12,
     "metadata": {},
     "output_type": "execute_result"
    }
   ],
   "source": [
    "my_set"
   ]
  },
  {
   "cell_type": "markdown",
   "metadata": {},
   "source": [
    "ADDING TO SET"
   ]
  },
  {
   "cell_type": "code",
   "execution_count": 18,
   "metadata": {},
   "outputs": [
    {
     "data": {
      "text/plain": [
       "{456,\n",
       " 46.9,\n",
       " 'Aapple',\n",
       " 'China',\n",
       " False,\n",
       " 'Father',\n",
       " 'Mother',\n",
       " 'Prince',\n",
       " True,\n",
       " 'son'}"
      ]
     },
     "execution_count": 18,
     "metadata": {},
     "output_type": "execute_result"
    }
   ],
   "source": [
    "my_set_1={'Mother','Father','China','son'}\n",
    "my_set_1.update(my_set)\n",
    "my_set_1"
   ]
  },
  {
   "cell_type": "code",
   "execution_count": 16,
   "metadata": {},
   "outputs": [
    {
     "data": {
      "text/plain": [
       "{456,\n",
       " 46.9,\n",
       " 'Aapple',\n",
       " 'China',\n",
       " False,\n",
       " 'Father',\n",
       " 'Mother',\n",
       " 'Prince',\n",
       " True,\n",
       " 'son'}"
      ]
     },
     "execution_count": 16,
     "metadata": {},
     "output_type": "execute_result"
    }
   ],
   "source": [
    "my_set_2=my_set_1.copy()\n",
    "my_set_2"
   ]
  },
  {
   "cell_type": "code",
   "execution_count": 19,
   "metadata": {},
   "outputs": [
    {
     "data": {
      "text/plain": [
       "set()"
      ]
     },
     "execution_count": 19,
     "metadata": {},
     "output_type": "execute_result"
    }
   ],
   "source": [
    "my_set_1.clear()\n",
    "my_set_1"
   ]
  },
  {
   "cell_type": "markdown",
   "metadata": {},
   "source": [
    "SET JOINS"
   ]
  },
  {
   "cell_type": "markdown",
   "metadata": {},
   "source": [
    "UNION\n",
    "\n",
    "THE UNION METHOD RETURNS A NEW SET WITH ALL ITEMS FROM BOTH SET"
   ]
  },
  {
   "cell_type": "code",
   "execution_count": 21,
   "metadata": {},
   "outputs": [
    {
     "data": {
      "text/plain": [
       "{456,\n",
       " 46.9,\n",
       " 'Aapple',\n",
       " 'China',\n",
       " 'Data Analysis',\n",
       " 'Data Science',\n",
       " False,\n",
       " 'Father',\n",
       " 'Mother',\n",
       " 'Prince',\n",
       " 'Software Dev',\n",
       " True,\n",
       " 'son'}"
      ]
     },
     "execution_count": 21,
     "metadata": {},
     "output_type": "execute_result"
    }
   ],
   "source": [
    "set1=('Data Science','Software Dev','Data Analysis')\n",
    "set2=my_set_2.union(set1)\n",
    "set2"
   ]
  },
  {
   "cell_type": "code",
   "execution_count": 22,
   "metadata": {},
   "outputs": [
    {
     "data": {
      "text/plain": [
       "{0, 1, 67, 78, 89, 'Energy'}"
      ]
     },
     "execution_count": 22,
     "metadata": {},
     "output_type": "execute_result"
    }
   ],
   "source": [
    "set3={78,89,0,67,'Energy',False,1}\n",
    "set3"
   ]
  },
  {
   "cell_type": "markdown",
   "metadata": {},
   "source": [
    "DICTIONARIES ARE USED TO STORE DATA VALUES IN KEY AND VALUE PAIRS. DICTIONARIES ARE WRITTEN IN CURLY BRACKET. DICTIONARY ITEMS ARE ORDERED, CHANGEABLE AND DO NOT ALLOW DUPLICATES"
   ]
  },
  {
   "cell_type": "code",
   "execution_count": 2,
   "metadata": {},
   "outputs": [
    {
     "data": {
      "text/plain": [
       "{'Name': 'Adeyinka',\n",
       " 'Year': 2008,\n",
       " 'Height': 5.11,\n",
       " 'Weight': 750,\n",
       " 'Complexion': 'Fair',\n",
       " 'Country': 'Nigeria'}"
      ]
     },
     "execution_count": 2,
     "metadata": {},
     "output_type": "execute_result"
    }
   ],
   "source": [
    "student_info={'Name':'Adeyinka','Year':2008,'Height':5.11, 'Weight':750,'Complexion':'Fair','Country':'Nigeria'}\n",
    "student_info\n"
   ]
  },
  {
   "cell_type": "code",
   "execution_count": 27,
   "metadata": {},
   "outputs": [
    {
     "data": {
      "text/html": [
       "<div>\n",
       "<style scoped>\n",
       "    .dataframe tbody tr th:only-of-type {\n",
       "        vertical-align: middle;\n",
       "    }\n",
       "\n",
       "    .dataframe tbody tr th {\n",
       "        vertical-align: top;\n",
       "    }\n",
       "\n",
       "    .dataframe thead th {\n",
       "        text-align: right;\n",
       "    }\n",
       "</style>\n",
       "<table border=\"1\" class=\"dataframe\">\n",
       "  <thead>\n",
       "    <tr style=\"text-align: right;\">\n",
       "      <th></th>\n",
       "      <th>Name</th>\n",
       "      <th>Year</th>\n",
       "      <th>Height</th>\n",
       "      <th>Weight</th>\n",
       "      <th>Complexion</th>\n",
       "      <th>Country</th>\n",
       "    </tr>\n",
       "  </thead>\n",
       "  <tbody>\n",
       "    <tr>\n",
       "      <th>0</th>\n",
       "      <td>Adeyinka</td>\n",
       "      <td>2008</td>\n",
       "      <td>5.11</td>\n",
       "      <td>750</td>\n",
       "      <td>Fair</td>\n",
       "      <td>Nigeria</td>\n",
       "    </tr>\n",
       "  </tbody>\n",
       "</table>\n",
       "</div>"
      ],
      "text/plain": [
       "       Name  Year  Height  Weight Complexion  Country\n",
       "0  Adeyinka  2008    5.11     750       Fair  Nigeria"
      ]
     },
     "execution_count": 27,
     "metadata": {},
     "output_type": "execute_result"
    }
   ],
   "source": [
    "import pandas as pd\n",
    "data=pd.DataFrame(student_info,index=[0])\n",
    "data\n"
   ]
  },
  {
   "cell_type": "code",
   "execution_count": 6,
   "metadata": {},
   "outputs": [
    {
     "data": {
      "text/plain": [
       "{'Name': ['Adeyinka', 'Prince', 'Peter', 'Silas'],\n",
       " 'Year': [2008, 2009, 2010, 2011],\n",
       " 'Height': [5.11, 6.41, 8.45, 7.22],\n",
       " 'Weight': [750, 400, 650, 500],\n",
       " 'Complexion': ['Fair', 'Dark', 'Brown', 'White'],\n",
       " 'Country': ['Nigeria', 'Spain', 'Italy', 'Ghana']}"
      ]
     },
     "execution_count": 6,
     "metadata": {},
     "output_type": "execute_result"
    }
   ],
   "source": [
    "student_info_one={'Name':['Adeyinka','Prince','Peter','Silas'],\n",
    "'Year':[2008,2009,2010,2011],\n",
    "'Height':[5.11,6.41,8.45,7.22], 'Weight':[750,400,650,500],\n",
    "'Complexion':['Fair','Dark','Brown','White'], \n",
    "'Country':['Nigeria','Spain','Italy','Ghana']}\n",
    "student_info_one"
   ]
  },
  {
   "cell_type": "code",
   "execution_count": 9,
   "metadata": {},
   "outputs": [
    {
     "data": {
      "text/html": [
       "<div>\n",
       "<style scoped>\n",
       "    .dataframe tbody tr th:only-of-type {\n",
       "        vertical-align: middle;\n",
       "    }\n",
       "\n",
       "    .dataframe tbody tr th {\n",
       "        vertical-align: top;\n",
       "    }\n",
       "\n",
       "    .dataframe thead th {\n",
       "        text-align: right;\n",
       "    }\n",
       "</style>\n",
       "<table border=\"1\" class=\"dataframe\">\n",
       "  <thead>\n",
       "    <tr style=\"text-align: right;\">\n",
       "      <th></th>\n",
       "      <th>Name</th>\n",
       "      <th>Year</th>\n",
       "      <th>Height</th>\n",
       "      <th>Weight</th>\n",
       "      <th>Complexion</th>\n",
       "      <th>Country</th>\n",
       "    </tr>\n",
       "  </thead>\n",
       "  <tbody>\n",
       "    <tr>\n",
       "      <th>0</th>\n",
       "      <td>Adeyinka</td>\n",
       "      <td>2008</td>\n",
       "      <td>5.11</td>\n",
       "      <td>750</td>\n",
       "      <td>Fair</td>\n",
       "      <td>Nigeria</td>\n",
       "    </tr>\n",
       "    <tr>\n",
       "      <th>1</th>\n",
       "      <td>Prince</td>\n",
       "      <td>2009</td>\n",
       "      <td>6.41</td>\n",
       "      <td>400</td>\n",
       "      <td>Dark</td>\n",
       "      <td>Spain</td>\n",
       "    </tr>\n",
       "    <tr>\n",
       "      <th>2</th>\n",
       "      <td>Peter</td>\n",
       "      <td>2010</td>\n",
       "      <td>8.45</td>\n",
       "      <td>650</td>\n",
       "      <td>Brown</td>\n",
       "      <td>Italy</td>\n",
       "    </tr>\n",
       "    <tr>\n",
       "      <th>3</th>\n",
       "      <td>Silas</td>\n",
       "      <td>2011</td>\n",
       "      <td>7.22</td>\n",
       "      <td>500</td>\n",
       "      <td>White</td>\n",
       "      <td>Ghana</td>\n",
       "    </tr>\n",
       "  </tbody>\n",
       "</table>\n",
       "</div>"
      ],
      "text/plain": [
       "       Name  Year  Height  Weight Complexion  Country\n",
       "0  Adeyinka  2008    5.11     750       Fair  Nigeria\n",
       "1    Prince  2009    6.41     400       Dark    Spain\n",
       "2     Peter  2010    8.45     650      Brown    Italy\n",
       "3     Silas  2011    7.22     500      White    Ghana"
      ]
     },
     "execution_count": 9,
     "metadata": {},
     "output_type": "execute_result"
    }
   ],
   "source": [
    "import pandas as pd\n",
    "data_one=pd.DataFrame(student_info_one)\n",
    "data_one"
   ]
  },
  {
   "cell_type": "markdown",
   "metadata": {},
   "source": [
    "TO UPDATE THE DATAFRAME. USE THE METHOD BELOW"
   ]
  },
  {
   "cell_type": "code",
   "execution_count": 10,
   "metadata": {},
   "outputs": [
    {
     "data": {
      "text/html": [
       "<div>\n",
       "<style scoped>\n",
       "    .dataframe tbody tr th:only-of-type {\n",
       "        vertical-align: middle;\n",
       "    }\n",
       "\n",
       "    .dataframe tbody tr th {\n",
       "        vertical-align: top;\n",
       "    }\n",
       "\n",
       "    .dataframe thead th {\n",
       "        text-align: right;\n",
       "    }\n",
       "</style>\n",
       "<table border=\"1\" class=\"dataframe\">\n",
       "  <thead>\n",
       "    <tr style=\"text-align: right;\">\n",
       "      <th></th>\n",
       "      <th>Name</th>\n",
       "      <th>Year</th>\n",
       "      <th>Height</th>\n",
       "      <th>Weight</th>\n",
       "      <th>Complexion</th>\n",
       "      <th>Country</th>\n",
       "      <th>Hobby</th>\n",
       "    </tr>\n",
       "  </thead>\n",
       "  <tbody>\n",
       "    <tr>\n",
       "      <th>0</th>\n",
       "      <td>Adeyinka</td>\n",
       "      <td>2008</td>\n",
       "      <td>5.11</td>\n",
       "      <td>750</td>\n",
       "      <td>Fair</td>\n",
       "      <td>Nigeria</td>\n",
       "      <td>Reading</td>\n",
       "    </tr>\n",
       "    <tr>\n",
       "      <th>1</th>\n",
       "      <td>Prince</td>\n",
       "      <td>2009</td>\n",
       "      <td>6.41</td>\n",
       "      <td>400</td>\n",
       "      <td>Dark</td>\n",
       "      <td>Spain</td>\n",
       "      <td>Swimming</td>\n",
       "    </tr>\n",
       "    <tr>\n",
       "      <th>2</th>\n",
       "      <td>Peter</td>\n",
       "      <td>2010</td>\n",
       "      <td>8.45</td>\n",
       "      <td>650</td>\n",
       "      <td>Brown</td>\n",
       "      <td>Italy</td>\n",
       "      <td>Sky-Diving</td>\n",
       "    </tr>\n",
       "    <tr>\n",
       "      <th>3</th>\n",
       "      <td>Silas</td>\n",
       "      <td>2011</td>\n",
       "      <td>7.22</td>\n",
       "      <td>500</td>\n",
       "      <td>White</td>\n",
       "      <td>Ghana</td>\n",
       "      <td>Shopping</td>\n",
       "    </tr>\n",
       "  </tbody>\n",
       "</table>\n",
       "</div>"
      ],
      "text/plain": [
       "       Name  Year  Height  Weight Complexion  Country       Hobby\n",
       "0  Adeyinka  2008    5.11     750       Fair  Nigeria     Reading\n",
       "1    Prince  2009    6.41     400       Dark    Spain    Swimming\n",
       "2     Peter  2010    8.45     650      Brown    Italy  Sky-Diving\n",
       "3     Silas  2011    7.22     500      White    Ghana    Shopping"
      ]
     },
     "execution_count": 10,
     "metadata": {},
     "output_type": "execute_result"
    }
   ],
   "source": [
    "data_one['Hobby']=['Reading','Swimming','Sky-Diving','Shopping']\n",
    "data_one"
   ]
  },
  {
   "cell_type": "markdown",
   "metadata": {},
   "source": [
    "TO ADD ADDITIONL COLUMN, YOU MUST INITIATE THE APPEND PROCESS BEFORE CONVERTING TO A DATAFRAME."
   ]
  },
  {
   "cell_type": "markdown",
   "metadata": {},
   "source": [
    "ADDING AN EXTRA ROW TO A DATAFRAME"
   ]
  },
  {
   "cell_type": "code",
   "execution_count": 26,
   "metadata": {},
   "outputs": [
    {
     "data": {
      "text/html": [
       "<div>\n",
       "<style scoped>\n",
       "    .dataframe tbody tr th:only-of-type {\n",
       "        vertical-align: middle;\n",
       "    }\n",
       "\n",
       "    .dataframe tbody tr th {\n",
       "        vertical-align: top;\n",
       "    }\n",
       "\n",
       "    .dataframe thead th {\n",
       "        text-align: right;\n",
       "    }\n",
       "</style>\n",
       "<table border=\"1\" class=\"dataframe\">\n",
       "  <thead>\n",
       "    <tr style=\"text-align: right;\">\n",
       "      <th></th>\n",
       "      <th>Name</th>\n",
       "      <th>Year</th>\n",
       "      <th>Height</th>\n",
       "      <th>Weight</th>\n",
       "      <th>Complexion</th>\n",
       "      <th>Country</th>\n",
       "      <th>Hobby</th>\n",
       "    </tr>\n",
       "  </thead>\n",
       "  <tbody>\n",
       "    <tr>\n",
       "      <th>0</th>\n",
       "      <td>Adeyinka</td>\n",
       "      <td>2008</td>\n",
       "      <td>5.11</td>\n",
       "      <td>750</td>\n",
       "      <td>Fair</td>\n",
       "      <td>Nigeria</td>\n",
       "      <td>Reading</td>\n",
       "    </tr>\n",
       "    <tr>\n",
       "      <th>1</th>\n",
       "      <td>Prince</td>\n",
       "      <td>2009</td>\n",
       "      <td>6.41</td>\n",
       "      <td>400</td>\n",
       "      <td>Dark</td>\n",
       "      <td>Spain</td>\n",
       "      <td>Swimming</td>\n",
       "    </tr>\n",
       "    <tr>\n",
       "      <th>2</th>\n",
       "      <td>Peter</td>\n",
       "      <td>2010</td>\n",
       "      <td>8.45</td>\n",
       "      <td>650</td>\n",
       "      <td>Brown</td>\n",
       "      <td>Italy</td>\n",
       "      <td>Sky-Diving</td>\n",
       "    </tr>\n",
       "    <tr>\n",
       "      <th>3</th>\n",
       "      <td>Silas</td>\n",
       "      <td>2011</td>\n",
       "      <td>7.22</td>\n",
       "      <td>500</td>\n",
       "      <td>White</td>\n",
       "      <td>Ghana</td>\n",
       "      <td>Shopping</td>\n",
       "    </tr>\n",
       "    <tr>\n",
       "      <th>4</th>\n",
       "      <td>Fatimah</td>\n",
       "      <td>2020</td>\n",
       "      <td>9.55</td>\n",
       "      <td>380</td>\n",
       "      <td>Yellow</td>\n",
       "      <td>Germany</td>\n",
       "      <td>Singing</td>\n",
       "    </tr>\n",
       "  </tbody>\n",
       "</table>\n",
       "</div>"
      ],
      "text/plain": [
       "       Name  Year  Height  Weight Complexion  Country       Hobby\n",
       "0  Adeyinka  2008    5.11     750       Fair  Nigeria     Reading\n",
       "1    Prince  2009    6.41     400       Dark    Spain    Swimming\n",
       "2     Peter  2010    8.45     650      Brown    Italy  Sky-Diving\n",
       "3     Silas  2011    7.22     500      White    Ghana    Shopping\n",
       "4   Fatimah  2020    9.55     380     Yellow  Germany     Singing"
      ]
     },
     "execution_count": 26,
     "metadata": {},
     "output_type": "execute_result"
    }
   ],
   "source": [
    "data_one.loc[len(data_one)]=['Fatimah',2020,9.55,380,'Yellow','Germany','Singing']\n",
    "data_one"
   ]
  },
  {
   "cell_type": "markdown",
   "metadata": {},
   "source": [
    "EDITING"
   ]
  },
  {
   "cell_type": "code",
   "execution_count": 27,
   "metadata": {},
   "outputs": [
    {
     "data": {
      "text/html": [
       "<div>\n",
       "<style scoped>\n",
       "    .dataframe tbody tr th:only-of-type {\n",
       "        vertical-align: middle;\n",
       "    }\n",
       "\n",
       "    .dataframe tbody tr th {\n",
       "        vertical-align: top;\n",
       "    }\n",
       "\n",
       "    .dataframe thead th {\n",
       "        text-align: right;\n",
       "    }\n",
       "</style>\n",
       "<table border=\"1\" class=\"dataframe\">\n",
       "  <thead>\n",
       "    <tr style=\"text-align: right;\">\n",
       "      <th></th>\n",
       "      <th>Name</th>\n",
       "      <th>Year</th>\n",
       "      <th>Height</th>\n",
       "      <th>Weight</th>\n",
       "      <th>Complexion</th>\n",
       "      <th>Country</th>\n",
       "      <th>Hobby</th>\n",
       "    </tr>\n",
       "  </thead>\n",
       "  <tbody>\n",
       "    <tr>\n",
       "      <th>0</th>\n",
       "      <td>Adeyinka</td>\n",
       "      <td>2008</td>\n",
       "      <td>5.11</td>\n",
       "      <td>750</td>\n",
       "      <td>Fair</td>\n",
       "      <td>Nigeria</td>\n",
       "      <td>Reading</td>\n",
       "    </tr>\n",
       "    <tr>\n",
       "      <th>1</th>\n",
       "      <td>Prince</td>\n",
       "      <td>2009</td>\n",
       "      <td>6.41</td>\n",
       "      <td>400</td>\n",
       "      <td>Dark</td>\n",
       "      <td>Spain</td>\n",
       "      <td>Swimming</td>\n",
       "    </tr>\n",
       "    <tr>\n",
       "      <th>2</th>\n",
       "      <td>Peter</td>\n",
       "      <td>2010</td>\n",
       "      <td>8.45</td>\n",
       "      <td>650</td>\n",
       "      <td>Brown</td>\n",
       "      <td>Italy</td>\n",
       "      <td>Sky-Diving</td>\n",
       "    </tr>\n",
       "    <tr>\n",
       "      <th>3</th>\n",
       "      <td>Silas</td>\n",
       "      <td>2011</td>\n",
       "      <td>7.22</td>\n",
       "      <td>500</td>\n",
       "      <td>White</td>\n",
       "      <td>Ghana</td>\n",
       "      <td>Shopping</td>\n",
       "    </tr>\n",
       "    <tr>\n",
       "      <th>4</th>\n",
       "      <td>Fatimah</td>\n",
       "      <td>2020</td>\n",
       "      <td>9.55</td>\n",
       "      <td>380</td>\n",
       "      <td>Yellow</td>\n",
       "      <td>Zambia</td>\n",
       "      <td>Singing</td>\n",
       "    </tr>\n",
       "  </tbody>\n",
       "</table>\n",
       "</div>"
      ],
      "text/plain": [
       "       Name  Year  Height  Weight Complexion  Country       Hobby\n",
       "0  Adeyinka  2008    5.11     750       Fair  Nigeria     Reading\n",
       "1    Prince  2009    6.41     400       Dark    Spain    Swimming\n",
       "2     Peter  2010    8.45     650      Brown    Italy  Sky-Diving\n",
       "3     Silas  2011    7.22     500      White    Ghana    Shopping\n",
       "4   Fatimah  2020    9.55     380     Yellow   Zambia     Singing"
      ]
     },
     "execution_count": 27,
     "metadata": {},
     "output_type": "execute_result"
    }
   ],
   "source": [
    "data_one.loc[4,'Country']='Zambia'\n",
    "data_one"
   ]
  },
  {
   "cell_type": "markdown",
   "metadata": {},
   "source": [
    "CHANGING THE ENTIRE VALUE OF A ROW"
   ]
  },
  {
   "cell_type": "code",
   "execution_count": 28,
   "metadata": {},
   "outputs": [
    {
     "data": {
      "text/html": [
       "<div>\n",
       "<style scoped>\n",
       "    .dataframe tbody tr th:only-of-type {\n",
       "        vertical-align: middle;\n",
       "    }\n",
       "\n",
       "    .dataframe tbody tr th {\n",
       "        vertical-align: top;\n",
       "    }\n",
       "\n",
       "    .dataframe thead th {\n",
       "        text-align: right;\n",
       "    }\n",
       "</style>\n",
       "<table border=\"1\" class=\"dataframe\">\n",
       "  <thead>\n",
       "    <tr style=\"text-align: right;\">\n",
       "      <th></th>\n",
       "      <th>Name</th>\n",
       "      <th>Year</th>\n",
       "      <th>Height</th>\n",
       "      <th>Weight</th>\n",
       "      <th>Complexion</th>\n",
       "      <th>Country</th>\n",
       "      <th>Hobby</th>\n",
       "    </tr>\n",
       "  </thead>\n",
       "  <tbody>\n",
       "    <tr>\n",
       "      <th>0</th>\n",
       "      <td>Adeyinka</td>\n",
       "      <td>2008</td>\n",
       "      <td>5.11</td>\n",
       "      <td>750</td>\n",
       "      <td>Fair</td>\n",
       "      <td>Nigeria</td>\n",
       "      <td>Reading</td>\n",
       "    </tr>\n",
       "    <tr>\n",
       "      <th>1</th>\n",
       "      <td>Prince</td>\n",
       "      <td>2009</td>\n",
       "      <td>6.41</td>\n",
       "      <td>400</td>\n",
       "      <td>Dark</td>\n",
       "      <td>Spain</td>\n",
       "      <td>Swimming</td>\n",
       "    </tr>\n",
       "    <tr>\n",
       "      <th>2</th>\n",
       "      <td>Peter</td>\n",
       "      <td>2010</td>\n",
       "      <td>8.45</td>\n",
       "      <td>650</td>\n",
       "      <td>Brown</td>\n",
       "      <td>Italy</td>\n",
       "      <td>Sky-Diving</td>\n",
       "    </tr>\n",
       "    <tr>\n",
       "      <th>3</th>\n",
       "      <td>Silas</td>\n",
       "      <td>2011</td>\n",
       "      <td>7.22</td>\n",
       "      <td>500</td>\n",
       "      <td>White</td>\n",
       "      <td>Ghana</td>\n",
       "      <td>Shopping</td>\n",
       "    </tr>\n",
       "    <tr>\n",
       "      <th>4</th>\n",
       "      <td>Alhaja</td>\n",
       "      <td>2007</td>\n",
       "      <td>5.70</td>\n",
       "      <td>730</td>\n",
       "      <td>Fair</td>\n",
       "      <td>Polish</td>\n",
       "      <td>Touring</td>\n",
       "    </tr>\n",
       "  </tbody>\n",
       "</table>\n",
       "</div>"
      ],
      "text/plain": [
       "       Name  Year  Height  Weight Complexion  Country       Hobby\n",
       "0  Adeyinka  2008    5.11     750       Fair  Nigeria     Reading\n",
       "1    Prince  2009    6.41     400       Dark    Spain    Swimming\n",
       "2     Peter  2010    8.45     650      Brown    Italy  Sky-Diving\n",
       "3     Silas  2011    7.22     500      White    Ghana    Shopping\n",
       "4    Alhaja  2007    5.70     730       Fair   Polish     Touring"
      ]
     },
     "execution_count": 28,
     "metadata": {},
     "output_type": "execute_result"
    }
   ],
   "source": [
    "data_one.loc[4]=['Alhaja',2007,5.7,730,'Fair','Polish','Touring']\n",
    "data_one"
   ]
  },
  {
   "cell_type": "markdown",
   "metadata": {},
   "source": [
    "RENAMING COLUMN TO A DIFFERENT NAME\n",
    "\n",
    "AXIS IS 1 BECAUSE IT IS A COLUMN"
   ]
  },
  {
   "cell_type": "code",
   "execution_count": 31,
   "metadata": {},
   "outputs": [
    {
     "data": {
      "text/html": [
       "<div>\n",
       "<style scoped>\n",
       "    .dataframe tbody tr th:only-of-type {\n",
       "        vertical-align: middle;\n",
       "    }\n",
       "\n",
       "    .dataframe tbody tr th {\n",
       "        vertical-align: top;\n",
       "    }\n",
       "\n",
       "    .dataframe thead th {\n",
       "        text-align: right;\n",
       "    }\n",
       "</style>\n",
       "<table border=\"1\" class=\"dataframe\">\n",
       "  <thead>\n",
       "    <tr style=\"text-align: right;\">\n",
       "      <th></th>\n",
       "      <th>Name</th>\n",
       "      <th>Date_of_Birth</th>\n",
       "      <th>Height</th>\n",
       "      <th>Weight</th>\n",
       "      <th>Complexion</th>\n",
       "      <th>Country</th>\n",
       "      <th>Hobby</th>\n",
       "    </tr>\n",
       "  </thead>\n",
       "  <tbody>\n",
       "    <tr>\n",
       "      <th>0</th>\n",
       "      <td>Adeyinka</td>\n",
       "      <td>2008</td>\n",
       "      <td>5.11</td>\n",
       "      <td>750</td>\n",
       "      <td>Fair</td>\n",
       "      <td>Nigeria</td>\n",
       "      <td>Reading</td>\n",
       "    </tr>\n",
       "    <tr>\n",
       "      <th>1</th>\n",
       "      <td>Prince</td>\n",
       "      <td>2009</td>\n",
       "      <td>6.41</td>\n",
       "      <td>400</td>\n",
       "      <td>Dark</td>\n",
       "      <td>Spain</td>\n",
       "      <td>Swimming</td>\n",
       "    </tr>\n",
       "    <tr>\n",
       "      <th>2</th>\n",
       "      <td>Peter</td>\n",
       "      <td>2010</td>\n",
       "      <td>8.45</td>\n",
       "      <td>650</td>\n",
       "      <td>Brown</td>\n",
       "      <td>Italy</td>\n",
       "      <td>Sky-Diving</td>\n",
       "    </tr>\n",
       "    <tr>\n",
       "      <th>3</th>\n",
       "      <td>Silas</td>\n",
       "      <td>2011</td>\n",
       "      <td>7.22</td>\n",
       "      <td>500</td>\n",
       "      <td>White</td>\n",
       "      <td>Ghana</td>\n",
       "      <td>Shopping</td>\n",
       "    </tr>\n",
       "    <tr>\n",
       "      <th>4</th>\n",
       "      <td>Alhaja</td>\n",
       "      <td>2007</td>\n",
       "      <td>5.70</td>\n",
       "      <td>730</td>\n",
       "      <td>Fair</td>\n",
       "      <td>Polish</td>\n",
       "      <td>Touring</td>\n",
       "    </tr>\n",
       "  </tbody>\n",
       "</table>\n",
       "</div>"
      ],
      "text/plain": [
       "       Name  Date_of_Birth  Height  Weight Complexion  Country       Hobby\n",
       "0  Adeyinka           2008    5.11     750       Fair  Nigeria     Reading\n",
       "1    Prince           2009    6.41     400       Dark    Spain    Swimming\n",
       "2     Peter           2010    8.45     650      Brown    Italy  Sky-Diving\n",
       "3     Silas           2011    7.22     500      White    Ghana    Shopping\n",
       "4    Alhaja           2007    5.70     730       Fair   Polish     Touring"
      ]
     },
     "execution_count": 31,
     "metadata": {},
     "output_type": "execute_result"
    }
   ],
   "source": [
    "data_one=data_one.rename({'Year':'Date_of_Birth'}, axis=1)\n",
    "data_one"
   ]
  }
 ],
 "metadata": {
  "kernelspec": {
   "display_name": "base",
   "language": "python",
   "name": "python3"
  },
  "language_info": {
   "codemirror_mode": {
    "name": "ipython",
    "version": 3
   },
   "file_extension": ".py",
   "mimetype": "text/x-python",
   "name": "python",
   "nbconvert_exporter": "python",
   "pygments_lexer": "ipython3",
   "version": "3.12.7"
  }
 },
 "nbformat": 4,
 "nbformat_minor": 2
}
